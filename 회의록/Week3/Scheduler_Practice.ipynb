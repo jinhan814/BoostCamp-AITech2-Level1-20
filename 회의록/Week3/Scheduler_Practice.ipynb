{
  "nbformat": 4,
  "nbformat_minor": 0,
  "metadata": {
    "colab": {
      "name": "Scheduler Practice",
      "provenance": [],
      "collapsed_sections": [],
      "toc_visible": true
    },
    "kernelspec": {
      "name": "python3",
      "display_name": "Python 3"
    },
    "language_info": {
      "name": "python"
    }
  },
  "cells": [
    {
      "cell_type": "code",
      "metadata": {
        "id": "aRT7HOYcb4Hu"
      },
      "source": [
        "# Library\n",
        "\n",
        "import torch\n",
        "import matplotlib.pyplot as plt\n",
        "import pandas as pd\n",
        "import numpy as np"
      ],
      "execution_count": 1,
      "outputs": []
    },
    {
      "cell_type": "code",
      "metadata": {
        "id": "iZY7c5pdcBOX"
      },
      "source": [
        "# Configurations \n",
        "\n",
        "class Model(torch.nn.Module):\n",
        "  def __init__(self):\n",
        "    super().__init__()\n",
        "    self.layer1 = torch.nn.Linear(28,10)\n",
        "\n",
        "  def forward(self,x):\n",
        "    return self.layer1(x)\n",
        "\n",
        "init_lr = 1\n",
        "model = Model()\n",
        "loss = torch.nn.MSELoss()"
      ],
      "execution_count": 3,
      "outputs": []
    },
    {
      "cell_type": "markdown",
      "metadata": {
        "id": "4fOXjCg3jVx2"
      },
      "source": [
        "#1. LambdaLR\n",
        "\n",
        "$$lr_{t} = lr_{0} * lambda(epoch)\n",
        "$$\n",
        "\n",
        "- 초기 learning rate에 lambda function을 곱한 값을 반환\n",
        "- lambda 함수만 잘 설정해준다면, 이후의 모든 method를 구현할 수 있음"
      ]
    },
    {
      "cell_type": "code",
      "metadata": {
        "id": "gZNAr_ybcEZi",
        "colab": {
          "base_uri": "https://localhost:8080/",
          "height": 282
        },
        "outputId": "4eb26851-e70d-45af-8a08-f47b9a92015f"
      },
      "source": [
        "optimizer = torch.optim.Adam(model.parameters(), lr = init_lr)\n",
        "\n",
        "scheduler = torch.optim.lr_scheduler.LambdaLR(optimizer, lr_lambda = lambda epoch : 0.95**epoch)\n",
        "# 매 에폭마다, learning rate를 0.95배로 감소시키겠다.\n",
        "\n",
        "lrs = []\n",
        "\n",
        "for i in range(100):\n",
        "  input = torch.FloatTensor(28)\n",
        "  pred = model(input)\n",
        "  loss_ = loss(pred, torch.FloatTensor(10))\n",
        "\n",
        "  optimizer.zero_grad()\n",
        "  loss_.backward()\n",
        "  optimizer.step()\n",
        "\n",
        "  scheduler.step()\n",
        "  lrs += scheduler.get_last_lr()\n",
        "  \n",
        "plt.plot(lrs)"
      ],
      "execution_count": 4,
      "outputs": [
        {
          "output_type": "execute_result",
          "data": {
            "text/plain": [
              "[<matplotlib.lines.Line2D at 0x7fd60c92b210>]"
            ]
          },
          "metadata": {
            "tags": []
          },
          "execution_count": 4
        },
        {
          "output_type": "display_data",
          "data": {
            "image/png": "[encoded data removed]",
            "text/plain": [
              "<Figure size 432x288 with 1 Axes>"
            ]
          },
          "metadata": {
            "tags": [],
            "needs_background": "light"
          }
        }
      ]
    },
    {
      "cell_type": "markdown",
      "metadata": {
        "id": "dM5F5oSWj1bd"
      },
      "source": [
        "# 2. MultiplicativeLR\n",
        "\n",
        "$$lr_{t} = lr_{t-1} * lambda(epoch)\n",
        "$$\n",
        "\n",
        "- 이전 시점의 learning rate에 lambda function을 곱한 값을 반환"
      ]
    },
    {
      "cell_type": "code",
      "metadata": {
        "id": "cHs5z7-1ehra",
        "colab": {
          "base_uri": "https://localhost:8080/",
          "height": 282
        },
        "outputId": "c137043d-c292-43b8-d23a-a9235ef07d5a"
      },
      "source": [
        "optimizer = torch.optim.Adam(model.parameters(), lr = init_lr)\n",
        "scheduler = torch.optim.lr_scheduler.MultiplicativeLR(optimizer, lr_lambda = lambda epoch : 0.95)\n",
        "# 매 에폭마다, learning rate를 0.95배로 감소시키겠다.\n",
        "\n",
        "lrs = []\n",
        "\n",
        "for i in range(100):\n",
        "  input = torch.FloatTensor(28)\n",
        "  pred = model(input)\n",
        "  loss_ = loss(pred, torch.FloatTensor(10))\n",
        "\n",
        "  optimizer.zero_grad()\n",
        "  loss_.backward()\n",
        "  optimizer.step()\n",
        "\n",
        "  scheduler.step()\n",
        "  lrs += scheduler.get_last_lr()\n",
        "  \n",
        "plt.plot(lrs)"
      ],
      "execution_count": 5,
      "outputs": [
        {
          "output_type": "execute_result",
          "data": {
            "text/plain": [
              "[<matplotlib.lines.Line2D at 0x7fd60c47fe50>]"
            ]
          },
          "metadata": {
            "tags": []
          },
          "execution_count": 5
        },
        {
          "output_type": "display_data",
          "data": {
            "image/png": "[encoded data removed]",
            "text/plain": [
              "<Figure size 432x288 with 1 Axes>"
            ]
          },
          "metadata": {
            "tags": [],
            "needs_background": "light"
          }
        }
      ]
    },
    {
      "cell_type": "markdown",
      "metadata": {
        "id": "4z42rmmykMkv"
      },
      "source": [
        "# 3. StepLR\n",
        "\n",
        "$$lr_{t} = lr_{t-step size} * Gamma\n",
        "$$\n",
        "\n",
        "- Step size마다 Gamma를 곱한 값을 반환."
      ]
    },
    {
      "cell_type": "code",
      "metadata": {
        "id": "kiNses-mju-c",
        "colab": {
          "base_uri": "https://localhost:8080/",
          "height": 282
        },
        "outputId": "d6198e2d-5290-4ede-ee8b-c8724d109b84"
      },
      "source": [
        "optimizer = torch.optim.Adam(model.parameters(), lr = init_lr)\n",
        "scheduler = torch.optim.lr_scheduler.StepLR(optimizer, step_size = 10, gamma = 0.5)\n",
        "# 매 10 에폭마다, learning rate를 절반으로 감소시키겠다.\n",
        "\n",
        "lrs = []\n",
        "\n",
        "for i in range(100):\n",
        "  input = torch.FloatTensor(28)\n",
        "  pred = model(input)\n",
        "  loss_ = loss(pred, torch.FloatTensor(10))\n",
        "\n",
        "  optimizer.zero_grad()\n",
        "  loss_.backward()\n",
        "  optimizer.step()\n",
        "\n",
        "  scheduler.step()\n",
        "  lrs += scheduler.get_last_lr()\n",
        "  \n",
        "plt.plot(lrs)"
      ],
      "execution_count": 6,
      "outputs": [
        {
          "output_type": "execute_result",
          "data": {
            "text/plain": [
              "[<matplotlib.lines.Line2D at 0x7fd60c3a2310>]"
            ]
          },
          "metadata": {
            "tags": []
          },
          "execution_count": 6
        },
        {
          "output_type": "display_data",
          "data": {
            "image/png": "[encoded data removed]",
            "text/plain": [
              "<Figure size 432x288 with 1 Axes>"
            ]
          },
          "metadata": {
            "tags": [],
            "needs_background": "light"
          }
        }
      ]
    },
    {
      "cell_type": "markdown",
      "metadata": {
        "id": "FEohUC96k-js"
      },
      "source": [
        "# 4. MultiStepLR\n",
        "\n",
        "$$lr_{t} = lr_{t-1} * Gamma,\\ if\\ t\\ in\\ \\{milestones\\}\n",
        "$$\n",
        "\n",
        "- epoch이 milestone에 도달할 때마다, Gamma를 곱한 값을 반환"
      ]
    },
    {
      "cell_type": "code",
      "metadata": {
        "id": "LZVMAEsXky2H",
        "colab": {
          "base_uri": "https://localhost:8080/",
          "height": 282
        },
        "outputId": "493cfbd9-9728-4dac-db0f-709b90e151fa"
      },
      "source": [
        "optimizer = torch.optim.Adam(model.parameters(), lr = init_lr)\n",
        "scheduler = torch.optim.lr_scheduler.MultiStepLR(optimizer, milestones = [10,50,90], gamma = 0.5)\n",
        "# 에폭이 10, 50, 90에 도달할 때마다 learning rate를 절반으로 감소\n",
        "\n",
        "lrs = []\n",
        "\n",
        "for i in range(100):\n",
        "  input = torch.FloatTensor(28)\n",
        "  pred = model(input)\n",
        "  loss_ = loss(pred, torch.FloatTensor(10))\n",
        "\n",
        "  optimizer.zero_grad()\n",
        "  loss_.backward()\n",
        "  optimizer.step()\n",
        "\n",
        "  scheduler.step()\n",
        "  lrs += scheduler.get_last_lr()\n",
        "  \n",
        "plt.plot(lrs)"
      ],
      "execution_count": 7,
      "outputs": [
        {
          "output_type": "execute_result",
          "data": {
            "text/plain": [
              "[<matplotlib.lines.Line2D at 0x7fd60c38dcd0>]"
            ]
          },
          "metadata": {
            "tags": []
          },
          "execution_count": 7
        },
        {
          "output_type": "display_data",
          "data": {
            "image/png": "[encoded data removed]",
            "text/plain": [
              "<Figure size 432x288 with 1 Axes>"
            ]
          },
          "metadata": {
            "tags": [],
            "needs_background": "light"
          }
        }
      ]
    },
    {
      "cell_type": "markdown",
      "metadata": {
        "id": "lW4ve7yUl7jT"
      },
      "source": [
        "# 5. ExponentialLR\n",
        "\n",
        "$$lr_{t} = lr^{Gamma}_{t-1}\n",
        "$$\n",
        "\n",
        "- 매 epoch 마다 Gamma 제곱을 반환"
      ]
    },
    {
      "cell_type": "code",
      "metadata": {
        "id": "w8sKmIpSlfzx",
        "colab": {
          "base_uri": "https://localhost:8080/",
          "height": 282
        },
        "outputId": "169d9fcd-863c-4c44-8923-f12be1f4a150"
      },
      "source": [
        "optimizer = torch.optim.Adam(model.parameters(), lr = init_lr)\n",
        "scheduler = torch.optim.lr_scheduler.ExponentialLR(optimizer, gamma = 0.9)\n",
        "\n",
        "lrs = []\n",
        "\n",
        "for i in range(100):\n",
        "  input = torch.FloatTensor(28)\n",
        "  pred = model(input)\n",
        "  loss_ = loss(pred, torch.FloatTensor(10))\n",
        "\n",
        "  optimizer.zero_grad()\n",
        "  loss_.backward()\n",
        "  optimizer.step()\n",
        "\n",
        "  scheduler.step()\n",
        "  lrs += scheduler.get_last_lr()\n",
        "  \n",
        "plt.plot(lrs)"
      ],
      "execution_count": 8,
      "outputs": [
        {
          "output_type": "execute_result",
          "data": {
            "text/plain": [
              "[<matplotlib.lines.Line2D at 0x7fd60c433890>]"
            ]
          },
          "metadata": {
            "tags": []
          },
          "execution_count": 8
        },
        {
          "output_type": "display_data",
          "data": {
            "image/png": "[encoded data removed]",
            "text/plain": [
              "<Figure size 432x288 with 1 Axes>"
            ]
          },
          "metadata": {
            "tags": [],
            "needs_background": "light"
          }
        }
      ]
    },
    {
      "cell_type": "markdown",
      "metadata": {
        "id": "ZMM67Y2NnEZ0"
      },
      "source": [
        "# 5. ReduceLROnPlateau\n",
        "\n",
        "- 성능이 향상되지 않을 때, patience만큼 인내한 다음 learning rate를 감소시킴\n",
        "- 성능을 평가할 지표를 넣어야 함"
      ]
    },
    {
      "cell_type": "code",
      "metadata": {
        "id": "8MIiKPfLmRUc",
        "colab": {
          "base_uri": "https://localhost:8080/",
          "height": 282
        },
        "outputId": "930f2bd6-09d2-4b0d-a2ca-a5152889df61"
      },
      "source": [
        "optimizer = torch.optim.Adam(model.parameters(), lr = 1)\n",
        "scheduler = torch.optim.lr_scheduler.ReduceLROnPlateau(optimizer, mode = 'min', factor = 0.9, patience = 3, min_lr = 0.001)\n",
        "# 매 validation마다 3번 참고, learning rate를 0.9배로 감소시키겠다.\n",
        "\n",
        "lrs = []\n",
        "\n",
        "for i in range(100):\n",
        "  input = torch.FloatTensor(28)\n",
        "  pred = model(input)\n",
        "  loss_ = loss(pred, torch.FloatTensor(10))\n",
        "\n",
        "  optimizer.zero_grad()\n",
        "  loss_.backward()\n",
        "  optimizer.step()\n",
        "\n",
        "  # validation\n",
        "  with torch.no_grad():\n",
        "\n",
        "    input = torch.FloatTensor(28)\n",
        "    pred = model(input)\n",
        "    loss_ = loss(pred, torch.FloatTensor(10))\n",
        "\n",
        "  scheduler.step(loss_)\n",
        "  lrs.append(optimizer.param_groups[0]['lr'])\n",
        "\n",
        "plt.plot(lrs)"
      ],
      "execution_count": 9,
      "outputs": [
        {
          "output_type": "execute_result",
          "data": {
            "text/plain": [
              "[<matplotlib.lines.Line2D at 0x7fd60c2d4fd0>]"
            ]
          },
          "metadata": {
            "tags": []
          },
          "execution_count": 9
        },
        {
          "output_type": "display_data",
          "data": {
            "image/png": "[encoded data removed]",
            "text/plain": [
              "<Figure size 432x288 with 1 Axes>"
            ]
          },
          "metadata": {
            "tags": [],
            "needs_background": "light"
          }
        }
      ]
    },
    {
      "cell_type": "markdown",
      "metadata": {
        "id": "vQ8rmm_Gqh_u"
      },
      "source": [
        "# 5. CosineAnnealingLR\n",
        "\n",
        "\n",
        "- 성능이 향상되지 않을 때, patience만큼 인내한 다음 learning rate를 감소시킴\n",
        "- 성능을 평가할 지표를 넣어야 함"
      ]
    },
    {
      "cell_type": "code",
      "metadata": {
        "id": "iJvMYiQRqyds",
        "colab": {
          "base_uri": "https://localhost:8080/",
          "height": 282
        },
        "outputId": "570421ad-3313-464e-e5f9-5216fb58f2c2"
      },
      "source": [
        "optimizer = torch.optim.Adam(model.parameters(), lr = init_lr)\n",
        "scheduler = torch.optim.lr_scheduler.CosineAnnealingLR(optimizer, T_max = 10, eta_min = 0.01)\n",
        "# 20 epoch의 cycle과, [0.01, 1]의 범위를 가진 코사인 그래프의 모양을 그리며 학습한다.\n",
        "\n",
        "lrs = []\n",
        "\n",
        "for i in range(100):\n",
        "  input = torch.FloatTensor(28)\n",
        "  pred = model(input)\n",
        "  loss_ = loss(pred, torch.FloatTensor(10))\n",
        "\n",
        "  optimizer.zero_grad()\n",
        "  loss_.backward()\n",
        "  optimizer.step()\n",
        "\n",
        "  scheduler.step()\n",
        "  lrs += scheduler.get_last_lr()\n",
        "  \n",
        "plt.plot(lrs)"
      ],
      "execution_count": 10,
      "outputs": [
        {
          "output_type": "execute_result",
          "data": {
            "text/plain": [
              "[<matplotlib.lines.Line2D at 0x7fd60c243890>]"
            ]
          },
          "metadata": {
            "tags": []
          },
          "execution_count": 10
        },
        {
          "output_type": "display_data",
          "data": {
            "image/png": "[encoded data removed]",
            "text/plain": [
              "<Figure size 432x288 with 1 Axes>"
            ]
          },
          "metadata": {
            "tags": [],
            "needs_background": "light"
          }
        }
      ]
    },
    {
      "cell_type": "code",
      "metadata": {
        "id": "YQEn2NOISPCC"
      },
      "source": [
        ""
      ],
      "execution_count": null,
      "outputs": []
    }
  ]
}